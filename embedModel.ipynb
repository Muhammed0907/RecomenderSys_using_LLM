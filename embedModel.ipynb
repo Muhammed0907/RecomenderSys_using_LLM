{
 "cells": [
  {
   "cell_type": "code",
   "execution_count": 4,
   "metadata": {},
   "outputs": [],
   "source": [
    "import numpy as np\n",
    "import pandas as pd\n",
    "import faiss\n",
    "import requests"
   ]
  },
  {
   "cell_type": "code",
   "execution_count": 2,
   "metadata": {},
   "outputs": [
    {
     "data": {
      "text/html": [
       "<div>\n",
       "<style scoped>\n",
       "    .dataframe tbody tr th:only-of-type {\n",
       "        vertical-align: middle;\n",
       "    }\n",
       "\n",
       "    .dataframe tbody tr th {\n",
       "        vertical-align: top;\n",
       "    }\n",
       "\n",
       "    .dataframe thead th {\n",
       "        text-align: right;\n",
       "    }\n",
       "</style>\n",
       "<table border=\"1\" class=\"dataframe\">\n",
       "  <thead>\n",
       "    <tr style=\"text-align: right;\">\n",
       "      <th></th>\n",
       "      <th>Name</th>\n",
       "      <th>Category</th>\n",
       "      <th>Description</th>\n",
       "      <th>Tags</th>\n",
       "    </tr>\n",
       "  </thead>\n",
       "  <tbody>\n",
       "    <tr>\n",
       "      <th>0</th>\n",
       "      <td>AI Resume Reviewer</td>\n",
       "      <td>Career Assistance</td>\n",
       "      <td>An AI-powered tool that reviews resumes and pr...</td>\n",
       "      <td>resume, career, job, enhancement, HR</td>\n",
       "    </tr>\n",
       "    <tr>\n",
       "      <th>1</th>\n",
       "      <td>Content Generator Pro</td>\n",
       "      <td>Content Creation</td>\n",
       "      <td>A tool that generates high-quality blog posts,...</td>\n",
       "      <td>blog, content, marketing, writing, automation</td>\n",
       "    </tr>\n",
       "    <tr>\n",
       "      <th>2</th>\n",
       "      <td>Code Debugger AI</td>\n",
       "      <td>Development Tools</td>\n",
       "      <td>An AI tool that helps developers debug code by...</td>\n",
       "      <td>programming, debugging, development, efficiency</td>\n",
       "    </tr>\n",
       "    <tr>\n",
       "      <th>3</th>\n",
       "      <td>AI Translator Pro</td>\n",
       "      <td>Language Processing</td>\n",
       "      <td>A multilingual AI translation tool that suppor...</td>\n",
       "      <td>translation, languages, multilingual, NLP</td>\n",
       "    </tr>\n",
       "    <tr>\n",
       "      <th>4</th>\n",
       "      <td>Voice Assistant SDK</td>\n",
       "      <td>Voice Recognition</td>\n",
       "      <td>A developer-friendly toolkit that allows easy ...</td>\n",
       "      <td>voice, speech, recognition, development, SDK</td>\n",
       "    </tr>\n",
       "  </tbody>\n",
       "</table>\n",
       "</div>"
      ],
      "text/plain": [
       "                    Name             Category  \\\n",
       "0     AI Resume Reviewer    Career Assistance   \n",
       "1  Content Generator Pro     Content Creation   \n",
       "2       Code Debugger AI    Development Tools   \n",
       "3      AI Translator Pro  Language Processing   \n",
       "4    Voice Assistant SDK    Voice Recognition   \n",
       "\n",
       "                                         Description  \\\n",
       "0  An AI-powered tool that reviews resumes and pr...   \n",
       "1  A tool that generates high-quality blog posts,...   \n",
       "2  An AI tool that helps developers debug code by...   \n",
       "3  A multilingual AI translation tool that suppor...   \n",
       "4  A developer-friendly toolkit that allows easy ...   \n",
       "\n",
       "                                              Tags  \n",
       "0             resume, career, job, enhancement, HR  \n",
       "1    blog, content, marketing, writing, automation  \n",
       "2  programming, debugging, development, efficiency  \n",
       "3        translation, languages, multilingual, NLP  \n",
       "4     voice, speech, recognition, development, SDK  "
      ]
     },
     "execution_count": 2,
     "metadata": {},
     "output_type": "execute_result"
    }
   ],
   "source": [
    "dfAitool = pd.read_csv(\"./ai_tools_50.csv\")\n",
    "dfAitool.head()"
   ]
  },
  {
   "cell_type": "code",
   "execution_count": 3,
   "metadata": {},
   "outputs": [
    {
     "name": "stdout",
     "output_type": "stream",
     "text": [
      "Name: AI Resume Reviewer\n",
      "Category: Career Assistance\n",
      "Description: An AI-powered tool that reviews resumes and provides suggestions for improvement, including formatting, keywords, and content structure.\n",
      "Tags: resume, career, job, enhancement, HR\n",
      "50\n"
     ]
    }
   ],
   "source": [
    "def row_to_text(row):\n",
    "    return '\\n'.join([f\"{col}: {val}\" for col, val in row.items()])\n",
    "\n",
    "textual_representation = dfAitool.apply(row_to_text, axis=1)\n",
    "print(textual_representation[0])\n",
    "print(len(textual_representation))"
   ]
  },
  {
   "cell_type": "code",
   "execution_count": 5,
   "metadata": {},
   "outputs": [
    {
     "data": {
      "text/plain": [
       "array([[0., 0., 0., ..., 0., 0., 0.],\n",
       "       [0., 0., 0., ..., 0., 0., 0.],\n",
       "       [0., 0., 0., ..., 0., 0., 0.],\n",
       "       ...,\n",
       "       [0., 0., 0., ..., 0., 0., 0.],\n",
       "       [0., 0., 0., ..., 0., 0., 0.],\n",
       "       [0., 0., 0., ..., 0., 0., 0.]], dtype=float32)"
      ]
     },
     "execution_count": 5,
     "metadata": {},
     "output_type": "execute_result"
    }
   ],
   "source": [
    "dim = 768\n",
    "\n",
    "index = faiss.IndexFlatL2(dim)\n",
    "\n",
    "x = np.zeros((len(textual_representation),dim),dtype=\"float32\")"
   ]
  },
  {
   "cell_type": "code",
   "execution_count": 6,
   "metadata": {},
   "outputs": [
    {
     "name": "stdout",
     "output_type": "stream",
     "text": [
      "Processed 0 intences\n",
      "Processed 30 intences\n"
     ]
    }
   ],
   "source": [
    "OllamURL = \"http://localhost:11434/api/embeddings\"\n",
    "OllamaEmbedModel = \"nomic-embed-text\"\n",
    "for i, repres in enumerate(textual_representation):\n",
    "    if i % 30 == 0:\n",
    "        print(f\"Processed {i} intences\")\n",
    "    \n",
    "    res = requests.post(\n",
    "        url=OllamURL,\n",
    "        json = {\n",
    "        \"model\":OllamaEmbedModel,\n",
    "        \"prompt\":repres\n",
    "        }\n",
    "    )\n",
    "    embedding = res.json()[\"embedding\"]\n",
    "    x[i] = np.array(embedding)\n",
    "index.add(x)\n",
    "    "
   ]
  },
  {
   "cell_type": "code",
   "execution_count": 7,
   "metadata": {},
   "outputs": [],
   "source": [
    "faiss.write_index(index,'ai_tool_embed_model')"
   ]
  },
  {
   "cell_type": "code",
   "execution_count": 8,
   "metadata": {},
   "outputs": [],
   "source": [
    "trainedAitoolEmbedModel = faiss.read_index(\"ai_tool_embed_model\")"
   ]
  },
  {
   "cell_type": "code",
   "execution_count": 9,
   "metadata": {},
   "outputs": [
    {
     "data": {
      "text/plain": [
       "Name                                          AI Resume Reviewer\n",
       "Category                                       Career Assistance\n",
       "Description    An AI-powered tool that reviews resumes and pr...\n",
       "Tags                        resume, career, job, enhancement, HR\n",
       "Name: 0, dtype: object"
      ]
     },
     "execution_count": 9,
     "metadata": {},
     "output_type": "execute_result"
    }
   ],
   "source": [
    "dfAitool.iloc[0]"
   ]
  },
  {
   "cell_type": "code",
   "execution_count": 10,
   "metadata": {},
   "outputs": [],
   "source": [
    "def Recomend(userProfile):\n",
    "    resp = requests.post(\n",
    "        OllamURL,\n",
    "        json={\n",
    "            \"model\":OllamaEmbedModel,\n",
    "            \"prompt\":userProfile,\n",
    "        }\n",
    "    )\n",
    "    embed = np.array([resp.json()[\"embedding\"]],dtype=\"float32\")\n",
    "    _,I = trainedAitoolEmbedModel.search(embed,5)\n",
    "    bestMatches = dfAitool.iloc[I.flatten()]\n",
    "    userRecomenedTools = pd.DataFrame({\n",
    "    \"tools\": bestMatches['Name'],\n",
    "})\n",
    "    userRecomenedTools.to_csv(\"userRecomenedTools.csv\", index=False)\n",
    "    print(userRecomenedTools)"
   ]
  },
  {
   "cell_type": "code",
   "execution_count": 12,
   "metadata": {},
   "outputs": [
    {
     "name": "stdout",
     "output_type": "stream",
     "text": [
      "Recomended:\n",
      "                     tools\n",
      "19  Facial Recognition Pro\n",
      "30      Fraud Detection AI\n",
      "18      AI Story Generator\n",
      "38       AI Code Generator\n",
      "6     Image Enhancement AI\n"
     ]
    }
   ],
   "source": [
    "UserOneInfo = f\"\"\"\n",
    "    face detection, Code,Pdf to word,AI Story Generator\n",
    "\"\"\"\n",
    "# UserOneInfo = f\"\"\"\n",
    "#     search_history: face detection, Code\n",
    "#     used_tools: Pdf to word,AI Story Generator\n",
    "# \"\"\"\n",
    "print(\"Recomended:\")\n",
    "Recomend(UserOneInfo)   "
   ]
  }
 ],
 "metadata": {
  "kernelspec": {
   "display_name": "audiow",
   "language": "python",
   "name": "python3"
  },
  "language_info": {
   "codemirror_mode": {
    "name": "ipython",
    "version": 3
   },
   "file_extension": ".py",
   "mimetype": "text/x-python",
   "name": "python",
   "nbconvert_exporter": "python",
   "pygments_lexer": "ipython3",
   "version": "3.11.9"
  }
 },
 "nbformat": 4,
 "nbformat_minor": 2
}
